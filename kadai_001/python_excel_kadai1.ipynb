{
  "nbformat": 4,
  "nbformat_minor": 0,
  "metadata": {
    "colab": {
      "provenance": []
    },
    "kernelspec": {
      "name": "python3",
      "display_name": "Python 3"
    },
    "language_info": {
      "name": "python"
    }
  },
  "cells": [
    {
      "cell_type": "code",
      "execution_count": 2,
      "metadata": {
        "id": "hoRb5E0_nTHt"
      },
      "outputs": [],
      "source": [
        "import openpyxl\n",
        "\n",
        "workbook = openpyxl.Workbook()\n",
        "workbook.save('請求書_20241205.xlsx')\n",
        "\n",
        "ws = workbook.active\n",
        "\n",
        "ws['B1'] = '請求書'\n",
        "ws['B4'] = '株式会社ABC'\n",
        "ws['B5'] = '〒101-0022 東京都千代田区神田練塀町300'\n",
        "ws['B6'] = 'TEL:03-1234-5678 FAX:03-1234-5678'\n",
        "ws['B7'] = '担当者名:鈴木一郎 様'\n",
        "ws['F4'] = 'No.'\n",
        "ws['G4'] = '0001'\n",
        "ws['F5'] = '日付'\n",
        "\n",
        "import datetime\n",
        "today = datetime.date.today()\n",
        "formatted_date = today.strftime(\"%Y/%m/%d\")\n",
        "\n",
        "ws['G5'] = formatted_date\n",
        "\n",
        "workbook.save('請求書_20241205.xlsx')\n",
        "\n",
        "ws.cell(row=10, column=2, value='商品名')\n",
        "ws.cell(row=10, column=3, value='数量')\n",
        "ws.cell(row=10, column=4, value='単価')\n",
        "ws.cell(row=10, column=5, value='金額')\n",
        "\n",
        "data = [\n",
        "    ['商品A', 2, 10000, 20000],\n",
        "    ['商品B', 1, 15000, 15000],\n",
        "]\n",
        "\n",
        "start_row = 11\n",
        "for i, row in enumerate(data):\n",
        "    ws[f\"B{start_row + i}\"] = row[0]\n",
        "    ws[f\"C{start_row + i}\"] = row[1]\n",
        "    ws[f\"D{start_row + i}\"] = row[2]\n",
        "    ws[f\"E{start_row + i}\"] = row[3]\n",
        "\n",
        "ws['E13'] = 35000\n",
        "ws['B15'] = '合計'\n",
        "ws['B16'] = '消費税'\n",
        "ws[\"B17\"] = \"合計金額\"\n",
        "ws['C15'] = 35000\n",
        "ws['C16'] = 3500\n",
        "ws[\"C17\"] = 38500\n",
        "\n",
        "workbook.save('請求書_20241205.xlsx')"
      ]
    }
  ]
}
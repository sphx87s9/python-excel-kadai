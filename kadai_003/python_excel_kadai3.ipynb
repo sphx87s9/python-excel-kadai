{
  "nbformat": 4,
  "nbformat_minor": 0,
  "metadata": {
    "colab": {
      "provenance": []
    },
    "kernelspec": {
      "name": "python3",
      "display_name": "Python 3"
    },
    "language_info": {
      "name": "python"
    }
  },
  "cells": [
    {
      "cell_type": "code",
      "source": [
        "import pandas as pd\n",
        "from openpyxl import load_workbook\n",
        "\n",
        "# Excelファイルを読み込む\n",
        "df1 = pd.read_excel('2022_年間売上表.xlsx')\n",
        "df2 = pd.read_excel('2023_年間売上表.xlsx')\n",
        "\n",
        "# concat()でデータフレームを連結\n",
        "result_concat = pd.concat([df1, df2], axis=0)\n",
        "\n",
        "# 並べ替えと集計処理\n",
        "result_sorted_grouped = (\n",
        "    result_concat\n",
        "    .sort_values(by=[\"商品\", \"売上年\"])\n",
        "    .groupby([\"商品\", \"売上年\"], as_index=False)\n",
        "    .agg({\"金額（千円）\": \"sum\"})\n",
        ")\n",
        "\n",
        "\n",
        "# Excelファイルを作成する\n",
        "writer = pd.ExcelWriter('売上集計表.xlsx')\n",
        "\n",
        "# DataFrameオブジェクトをExcelファイルに書き込む\n",
        "result_sorted_grouped.to_excel(writer, sheet_name='Sheet1', index=False)\n",
        "# Excelファイルを保存する\n",
        "writer.close()\n",
        "\n",
        "from openpyxl.styles import PatternFill\n",
        "\n",
        "workbook = openpyxl.load_workbook('売上集計表.xlsx')\n",
        "ws = workbook.active\n",
        "\n",
        "header_fill = PatternFill(patternType='solid', fgColor='F2F2F2')\n",
        "for col in ['A1', 'B1', 'C1']:\n",
        "    ws[col].fill = header_fill\n",
        "\n",
        "workbook.save('売上集計表.xlsx')\n"
      ],
      "metadata": {
        "id": "1nyvCymueqtZ"
      },
      "execution_count": 21,
      "outputs": []
    }
  ]
}